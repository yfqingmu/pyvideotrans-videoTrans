{
  "cells": [
    {
      "cell_type": "markdown",
      "metadata": {
        "id": "intro"
      },
      "source": [
        "# 视频翻译API服务部署\n",
        "\n",
        "本笔记本用于在Google Colab上部署视频翻译API服务，并通过ngrok实现公网访问。\n",
        "\n",
        "## 1. 检查GPU\n",
        "首先确认是否启用了GPU"
      ]
    },
    {
      "cell_type": "code",
      "metadata": {
        "id": "check_gpu"
      },
      "source": [
        "!nvidia-smi"
      ],
      "execution_count": null,
      "outputs": []
    },
    {
      "cell_type": "markdown",
      "metadata": {
        "id": "setup_title"
      },
      "source": [
        "## 2. 安装系统依赖\n",
        "安装必要的系统包和Python环境"
      ]
    },
    {
      "cell_type": "code",
      "metadata": {
        "id": "install_deps"
      },
      "source": [
        "%%bash\n",
        "apt update && apt upgrade -y\n",
        "apt install software-properties-common -y\n",
        "add-apt-repository ppa:deadsnakes/ppa -y\n",
        "apt update\n",
        "apt-get install libxcb-cursor0 -y\n",
        "apt install python3.10 -y\n",
        "curl -sS https://bootstrap.pypa.io/get-pip.py | python3.10\n",
        "update-alternatives --install /usr/bin/python python /usr/local/bin/python3.10 1\n",
        "apt-get install ffmpeg -y"
      ],
      "execution_count": null,
      "outputs": []
    },
    {
      "cell_type": "markdown",
      "metadata": {
        "id": "clone_title"
      },
      "source": [
        "## 3. 克隆项目并安装依赖\n",
        "下载项目代码并安装Python依赖包"
      ]
    },
    {
      "cell_type": "code",
      "metadata": {
        "id": "clone_install"
      },
      "source": [
        "!git clone https://github.com/jianchang512/pyvideotrans\n",
        "%cd pyvideotrans\n",
        "!pip install -r requirements.txt\n",
        "\n",
        "# 安装CUDA支持\n",
        "!pip uninstall -y torch torchaudio\n",
        "!pip install torch==2.2.0 torchaudio==2.2.0 --index-url https://download.pytorch.org/whl/cu118\n",
        "!pip install nvidia-cublas-cu11 nvidia-cudnn-cu11"
      ],
      "execution_count": null,
      "outputs": []
    },
    {
      "cell_type": "markdown",
      "metadata": {
        "id": "ngrok_title"
      },
      "source": [
        "## 4. 配置ngrok\n",
        "安装并配置ngrok以实现公网访问\n",
        "\n",
        "**重要**: 请先在[ngrok官网](https://ngrok.com)注册账号并获取Authtoken"
      ]
    },
    {
      "cell_type": "code",
      "metadata": {
        "id": "setup_ngrok"
      },
      "source": [
        "!pip install pyngrok\n",
        "from pyngrok import ngrok\n",
        "\n",
        "# ⚠️ 替换为你的 Authtoken\n",
        "NGROK_AUTH_TOKEN = \"你的_NGROK_AUTHTOKEN\"\n",
        "ngrok.set_auth_token(NGROK_AUTH_TOKEN)"
      ],
      "execution_count": null,
      "outputs": []
    },
    {
      "cell_type": "markdown",
      "metadata": {
        "id": "start_title"
      },
      "source": [
        "## 5. 启动API服务\n",
        "启动API服务并获取公网访问地址。\n",
        "\n",
        "运行后会显示ngrok生成的公网地址，将其复制并替换到网页客户端的 `api.js` 中的 `baseURL`"
      ]
    },
    {
      "cell_type": "code",
      "metadata": {
        "id": "start_service"
      },
      "source": [
        "import subprocess\n",
        "import time\n",
        "from threading import Thread\n",
        "\n",
        "def run_api():\n",
        "    subprocess.run(['python', 'api.py'])\n",
        "\n",
        "# 在后台启动API服务\n",
        "api_thread = Thread(target=run_api)\n",
        "api_thread.daemon = True\n",
        "api_thread.start()\n",
        "\n",
        "# 等待API服务启动\n",
        "time.sleep(5)\n",
        "\n",
        "# 创建ngrok隧道\n",
        "public_url = ngrok.connect(9011)\n",
        "print('='*50)\n",
        "print(f'API公网访问地址: {public_url}')\n",
        "print('\\n请将此地址替换到网页客户端 js/api.js 中的 baseURL')\n",
        "print('='*50)\n",
        "\n",
        "# 保持隧道运行\n",
        "ngrok_process = ngrok.get_ngrok_process()\n",
        "try:\n",
        "    # 显示当前隧道状态\n",
        "    tunnels = ngrok.get_tunnels()\n",
        "    print(f'\\n当前活动的隧道: {len(tunnels)}')\n",
        "    for tunnel in tunnels:\n",
        "        print(f'- {tunnel.public_url} -> {tunnel.config[\"addr\"]}')\n",
        "    \n",
        "    print('\\n服务已启动，按 Ctrl+C 停止...')\n",
        "    ngrok_process.proc.wait()\n",
        "except KeyboardInterrupt:\n",
        "    print('正在停止服务...')\n",
        "    ngrok.kill()"
      ],
      "execution_count": null,
      "outputs": []
    },
    {
      "cell_type": "markdown",
      "metadata": {
        "id": "notes"
      },
      "source": [
        "## 注意事项\n",
        "\n",
        "1. 确保已选择 GPU 运行时（Runtime -> Change runtime type -> GPU）\n",
        "2. 获取到ngrok地址后，需要修改网页客户端的 `js/api.js`：\n",
        "```javascript\n",
        "class API {\n",
        "  constructor(baseURL = \"https://xxxx.ngrok.io\") { // 替换为实际的ngrok地址\n",
        "    this.baseURL = baseURL;\n",
        "  }\n",
        "  // ...\n",
        "}\n",
        "```\n",
        "3. Colab运行时间有限制，长时间不活动会断开连接\n",
        "4. 上传到Colab的文件会在会话结束后删除，请注意保存重要文件"
      ]
    }
  ],
  "metadata": {
    "colab": {
      "name": "videotrans_api.ipynb",
      "private_outputs": true,
      "provenance": [],
      "collapsed_sections": [],
      "machine_shape": "hm"
    },
    "kernelspec": {
      "name": "python3",
      "display_name": "Python 3"
    },
    "language_info": {
      "name": "python",
      "version": "3.10.0",
      "mimetype": "text/x-python",
      "codemirror_mode": {
        "name": "ipython",
        "version": 3
      },
      "pygments_lexer": "ipython3",
      "nbconvert_exporter": "python",
      "file_extension": ".py"
    },
    "accelerator": "GPU",
    "gpuClass": "standard"
  },
  "nbformat": 4,
  "nbformat_minor": 0
} 