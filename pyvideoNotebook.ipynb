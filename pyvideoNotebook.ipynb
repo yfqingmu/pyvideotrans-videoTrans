{
 "cells": [
  {
   "cell_type": "markdown",
   "metadata": {},
   "source": [
    "# PyVideoTrans Setup and Execution in Google Colab\n",
    "This notebook helps you set up and run the PyVideoTrans project in Google Colab."
   ]
  },
  {
   "cell_type": "code",
   "execution_count": null,
   "metadata": {
    "id": "update_and_install"
   },
   "outputs": [],
   "source": [
    "# Step 1: Update system packages\n",
    "!apt update && apt upgrade -y\n",
    "!apt install -y software-properties-common\n",
    "!add-apt-repository ppa:deadsnakes/ppa -y\n",
    "!apt update\n",
    "!apt install -y python3.10 libxcb-cursor0 ffmpeg\n",
    "!curl -sS https://bootstrap.pypa.io/get-pip.py | python3.10\n",
    "!update-alternatives --install /usr/bin/python python /usr/bin/python3.10 1\n"
   ]
  },
  {
   "cell_type": "code",
   "execution_count": null,
   "metadata": {
    "id": "clone_repository"
   },
   "outputs": [],
   "source": [
    "# Step 2: Clone the PyVideoTrans repository\n",
    "!git clone https://github.com/yfqingmu/pyvideotrans-videoTrans.git\n",
    "%cd /content/pyvideotrans-videoTrans"
   ]
  },
  {
   "cell_type": "code",
   "execution_count": null,
   "metadata": {
    "id": "install_requirements"
   },
   "outputs": [],
   "source": [
    "# Step 3: Install Python dependencies\n",
    "!pip install -r requirements.txt\n"
   ]
  },
  {
   "cell_type": "code",
   "execution_count": null,
   "metadata": {
    "id": "run_application"
   },
   "outputs": [],
   "source": [
    "# Step 4: Install Flask and ngrok\n",
    "!pip install flask pyngrok\n",
    "\n",
    "# Step 5: Set up ngrok and start the Flask app\n",
    "from pyngrok import ngrok\n",
    "\n",
    "# Set ngrok authtoken (replace with your actual token)\n",
    "ngrok.set_auth_token(\"your-authtoken\")\n",
    "\n",
    "# Connect ngrok to port 5000\n",
    "public_url = ngrok.connect(5000)\n",
    "print(f\"Public URL: {public_url}\")\n",
    "\n",
    "# Step 6: Run the Flask app (sp_web.py should be in the current directory)\n",
    "!python3 sp_web.py"
   ]
  }
 ],
 "metadata": {
  "colab": {
   "name": "pyvideoNotebook.ipynb",
   "provenance": []
  },
  "kernelspec": {
   "display_name": "Python 3",
   "language": "python",
   "name": "python3"
  },
  "language_info": {
   "codemirror_mode": {
    "name": "ipython",
    "version": 3
   },
   "file_extension": ".py",
   "mimetype": "text/x-python",
   "name": "python",
   "nbconvert_exporter": "python",
   "pygments_lexer": "ipython3",
   "version": "3.10"
  }
 },
 "nbformat": 4,
 "nbformat_minor": 0
}
