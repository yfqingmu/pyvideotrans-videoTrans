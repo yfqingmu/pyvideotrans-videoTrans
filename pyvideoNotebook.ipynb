{
 "cells": [
  {
   "cell_type": "markdown",
   "metadata": {},
   "source": [
    "# PyVideoTrans Setup and Execution in Google Colab\n",
    "This notebook helps you set up and run the PyVideoTrans project in Google Colab."
   ]
  },
  {
   "cell_type": "code",
   "execution_count": null,
   "metadata": {
    "id": "update_and_install"
   },
   "outputs": [],
   "source": [
    "# Step 1: Update system packages\n",
    "# Ensure the system is up to date before installing any new packages\n",
    "!apt update && apt upgrade -y\n",
    "# Install required package to manage PPAs\n",
    "!apt install -y software-properties-common\n",
    "# Add the deadsnakes PPA, which provides updated Python versions\n",
    "!add-apt-repository ppa:deadsnakes/ppa -y\n",
    "# Update package lists after adding the new PPA\n",
    "!apt update\n",
    "# Install Python 3.10, required libraries, and ffmpeg\n",
    "!apt install -y python3.10 libxcb-cursor0 ffmpeg\n",
    "# Download and install pip for Python 3.10\n",
    "!curl -sS https://bootstrap.pypa.io/get-pip.py | python3.10\n",
    "# Set Python 3.10 as the default Python version\n",
    "!update-alternatives --install /usr/bin/python python /usr/bin/python3.10 1\n",
    "# (Optional) Confirm the default Python version\n",
    "!update-alternatives --config python\n"
   ]
  },
  {
   "cell_type": "code",
   "execution_count": null,
   "metadata": {
    "id": "clone_repository"
   },
   "outputs": [],
   "source": [
    "# Step 2: Clone the PyVideoTrans repository\n",
    "# Clone the GitHub repository containing the PyVideoTrans project\n",
    "!git clone https://github.com/jianchang512/pyvideotrans.git\n",
    "# Navigate into the project directory\n",
    "%cd pyvideotrans"
   ]
  },
  {
   "cell_type": "code",
   "execution_count": null,
   "metadata": {
    "id": "create_virtualenv"
   },
   "outputs": [],
   "source": [
    "# Step 3: Set up a Python virtual environment\n",
    "# Create a virtual environment named 'venv'\n",
    "!python -m venv venv\n",
    "# Activate the virtual environment\n",
    "!source ./venv/bin/activate"
   ]
  },
  {
   "cell_type": "code",
   "execution_count": null,
   "metadata": {
    "id": "install_requirements"
   },
   "outputs": [],
   "source": [
    "# Step 4: Install Python dependencies\n",
    "# Install the required Python packages listed in requirements.txt\n",
    "# Use the official PyPI mirror for package installation\n",
    "try:\n",
    "    !pip install -r requirements.txt\n",
    "except Exception as e:\n",
    "    print('Retrying with an alternate source...')\n",
    "    !pip install -r requirements.txt"
   ]
  },
  {
   "cell_type": "code",
   "execution_count": null,
   "metadata": {
    "id": "cuda_installation"
   },
   "outputs": [],
   "source": [
    "# Step 5: Install CUDA dependencies for acceleration (if applicable)\n",
    "# Uninstall existing versions of torch and torchaudio\n",
    "!pip uninstall -y torch torchaudio\n",
    "# Install specific versions of torch and torchaudio compatible with CUDA 11.8\n",
    "!pip install torch==2.2.0 torchaudio==2.2.0 --index-url https://download.pytorch.org/whl/cu118\n",
    "# Install additional CUDA libraries\n",
    "!pip install nvidia-cublas-cu11 nvidia-cudnn-cu11"
   ]
  },
  {
   "cell_type": "code",
   "execution_count": null,
   "metadata": {
    "id": "run_application"
   },
   "outputs": [],
   "source": [
    "# Step 6: Run the PyVideoTrans application\n",
    "# Start the software interface\n",
    "!python sp.py"
   ]
  }
 ],
 "metadata": {
  "colab": {
   "name": "pyvideoNotebook.ipynb",
   "provenance": []
  },
  "kernelspec": {
   "display_name": "Python 3",
   "language": "python",
   "name": "python3"
  },
  "language_info": {
   "codemirror_mode": {
    "name": "ipython",
    "version": 3
   },
    "file_extension": ".py",
   "mimetype": "text/x-python",
   "name": "python",
   "nbconvert_exporter": "python",
   "pygments_lexer": "ipython3",
   "version": "3.10"
  }
 },
 "nbformat": 4,
 "nbformat_minor": 0
}
