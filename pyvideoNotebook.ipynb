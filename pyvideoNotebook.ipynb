{
 "cells": [
  {
   "cell_type": "markdown",
   "metadata": {},
   "source": [
    "# PyVideoTrans Setup and Execution in Google Colab\n",
    "This notebook helps you set up and run the PyVideoTrans project in Google Colab."
   ]
  },
  {
   "cell_type": "code",
   "execution_count": null,
   "metadata": {
    "id": "update_and_install"
   },
   "outputs": [],
   "source": [
    "# Update system packages\n",
    "!apt update && apt upgrade -y\n",
    "!apt install -y software-properties-common\n",
    "!add-apt-repository ppa:deadsnakes/ppa -y\n",
    "!apt update\n",
    "!apt install -y python3.10 libxcb-cursor0 ffmpeg\n",
    "!curl -sS https://bootstrap.pypa.io/get-pip.py | python3.10\n",
    "!update-alternatives --install /usr/bin/python python /usr/bin/python3.10 1\n",
    "!update-alternatives --config python\n"
   ]
  },
  {
   "cell_type": "code",
   "execution_count": null,
   "metadata": {
    "id": "clone_repository"
   },
   "outputs": [],
   "source": [
    "# Clone the PyVideoTrans repository\n",
    "!git clone https://github.com/jianchang512/pyvideotrans.git\n",
    "%cd pyvideotrans"
   ]
  },
  {
   "cell_type": "code",
   "execution_count": null,
   "metadata": {
    "id": "create_virtualenv"
   },
   "outputs": [],
   "source": [
    "# Set up a Python virtual environment\n",
    "!python -m venv venv\n",
    "!source ./venv/bin/activate"
   ]
  },
  {
   "cell_type": "code",
   "execution_count": null,
   "metadata": {
    "id": "install_requirements"
   },
   "outputs": [],
   "source": [
    "# Install Python dependencies\n",
    "!pip install -r requirements.txt || (\n",
    "    pip config set global.index-url https://mirrors.aliyun.com/pypi/simple/ && ",
    "    pip config set install.trusted-host mirrors.aliyun.com && ",
    "    pip install -r requirements.txt\n",
    ")"
   ]
  },
  {
   "cell_type": "code",
   "execution_count": null,
   "metadata": {
    "id": "cuda_installation"
   },
   "outputs": [],
   "source": [
    "# Install CUDA dependencies for acceleration (if applicable)\n",
    "!pip uninstall -y torch torchaudio\n",
    "!pip install torch==2.2.0 torchaudio==2.2.0 --index-url https://download.pytorch.org/whl/cu118\n",
    "!pip install nvidia-cublas-cu11 nvidia-cudnn-cu11"
   ]
  },
  {
   "cell_type": "code",
   "execution_count": null,
   "metadata": {
    "id": "run_application"
   },
   "outputs": [],
   "source": [
    "# Run the PyVideoTrans application\n",
    "!python sp.py"
   ]
  }
 ],
 "metadata": {
  "colab": {
   "name": "pyvideoNotebook.ipynb",
   "provenance": []
  },
  "kernelspec": {
   "display_name": "Python 3",
   "language": "python",
   "name": "python3"
  },
  "language_info": {
   "codemirror_mode": {
    "name": "ipython",
    "version": 3
   },
   "file_extension": ".py",
   "mimetype": "text/x-python",
   "name": "python",
   "nbconvert_exporter": "python",
   "pygments_lexer": "ipython3",
   "version": "3.10"
  }
 },
 "nbformat": 4,
 "nbformat_minor": 0
}
