{
 "cells": [
  {
   "cell_type": "markdown",
   "metadata": {},
   "source": [
    "# Run PyVideoTrans GUI in Google Colab\n",
    "This notebook sets up a virtual desktop environment to run PySide6 GUI applications in Colab."
   ]
  },
  {
   "cell_type": "code",
   "execution_count": null,
   "metadata": {},
   "outputs": [],
   "source": [
    "# Step 1: Install required packages\n",
    "!apt-get update\n",
    "!apt-get install -y xfce4 xfce4-goodies tightvncserver x11vnc xvfb python3-pyqt5\n",
    "!pip install flask pyngrok\n",
    "!pip install PySide6"
   ]
  },
  {
   "cell_type": "code",
   "execution_count": null,
   "metadata": {},
   "outputs": [],
   "source": [
    "# Step 2: Start a virtual desktop\n",
    "import os\n",
    "os.system('Xvfb :1 -screen 0 1024x768x16 &')\n",
    "os.environ['DISPLAY'] = ':1'"
   ]
  },
  {
   "cell_type": "code",
   "execution_count": null,
   "metadata": {},
   "outputs": [],
   "source": [
    "# Step 3: Clone the repository and install dependencies\n",
    "!git clone https://github.com/jianchang512/pyvideotrans.git\n",
    "%cd pyvideotrans\n",
    "!pip install -r requirements.txt"
   ]
  },
  {
   "cell_type": "code",
   "execution_count": null,
   "metadata": {},
   "outputs": [],
   "source": [
    "# Step 4: Start VNC server\n",
    "!vncserver :1 -geometry 1024x768 -depth 16 -pixelformat rgb565\n",
    "\n",
    "# Install and configure ngrok for accessing the virtual desktop\n",
    "!pip install pyngrok\n",
    "from pyngrok import ngrok\n",
    "public_url = ngrok.connect(5901, \"tcp\")  # Port 5901 for VNC\n",
    "print(f\"VNC viewer link: {public_url}\")"
   ]
  },
  {
   "cell_type": "code",
   "execution_count": null,
   "metadata": {},
   "outputs": [],
   "source": [
    "# Step 5: Run the GUI application\n",
    "!python3 sp.py"
   ]
  }
 ],
 "metadata": {
  "colab": {
   "name": "PyVideoTrans GUI in Colab",
   "provenance": []
  },
  "kernelspec": {
   "display_name": "Python 3",
   "language": "python",
   "name": "python3"
  },
  "language_info": {
   "codemirror_mode": {
    "name": "ipython",
    "version": 3
   },
   "file_extension": ".py",
   "mimetype": "text/x-python",
   "name": "python",
   "nbconvert_exporter": "python",
   "pygments_lexer": "ipython3",
   "version": "3.10"
  }
 },
 "nbformat": 4,
 "nbformat_minor": 0
}
