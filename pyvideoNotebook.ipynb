{
 "cells": [
  {
   "cell_type": "markdown",
   "metadata": {},
   "source": [
    "# PyVideoTrans Setup and Execution in Google Colab\n",
    "This notebook helps you set up and run the PyVideoTrans project in Google Colab."
   ]
  },
  {
   "cell_type": "code",
   "execution_count": null,
   "metadata": {
    "id": "update_and_install"
   },
   "outputs": [],
   "source": [
    "# Step 1: Update system packages\n",
    "# Ensure the system is up to date before installing any new packages\n",
    "!apt update && apt upgrade -y\n",
    "# Install required package to manage PPAs\n",
    "!apt install -y software-properties-common\n",
    "# Add the deadsnakes PPA, which provides updated Python versions\n",
    "!add-apt-repository ppa:deadsnakes/ppa -y\n",
    "# Update package lists after adding the new PPA\n",
    "!apt update\n",
    "# Install Python 3.10, required libraries, and ffmpeg\n",
    "!apt install -y python3.10 libxcb-cursor0 ffmpeg\n",
    "# Download and install pip for Python 3.10\n",
    "!curl -sS https://bootstrap.pypa.io/get-pip.py | python3.10\n",
    "# Set Python 3.10 as the default Python version\n",
    "!update-alternatives --install /usr/bin/python python /usr/bin/python3.10 1\n",
    "# (Optional) Confirm the default Python version\n",
    "!update-alternatives --config python\n"
   ]
  },
  {
   "cell_type": "code",
   "execution_count": null,
   "metadata": {
    "id": "clone_repository"
   },
   "outputs": [],
   "source": [
    "# Step 2: Clone the PyVideoTrans repository\n",
    "# Clone the GitHub repository containing the PyVideoTrans project\n",
    "!git clone git clone https://github.com/yfqingmu/pyvideotrans-videoTrans.git\n",
    "# Navigate into the project directory\n",
    "%cd pyvideotrans-videoTrans"
   ]
  },
  {
   "cell_type": "code",
   "execution_count": null,
   "metadata": {
    "id": "create_virtualenv"
   },
   "outputs": [],
   "source": [
    "# Step 3: Set up a Python virtual environment\n",
    "# Create a virtual environment named 'venv'"
   ]
  },
  {
   "cell_type": "code",
   "execution_count": null,
   "metadata": {
    "id": "install_requirements"
   },
   "outputs": [],
   "source": [
    "# Step 4: Install Python dependencies\n",
    "# Install the required Python packages listed in requirements.txt\n",
    "try:\n",
    "    !pip install -r requirements.txt\n",
    "except Exception as e:\n",
    "    print('Retrying with specific adjustments...')\n",
    "    # Resolve specific dependency conflicts\n",
    "    !pip install fsspec==2024.10.0 gcsfs==2024.10.0\n",
    "    !pip install -r requirements.txt"
   ]
  },
  {
   "cell_type": "code",
   "execution_count": null,
   "metadata": {
    "id": "cuda_installation"
   },
   "outputs": [],
   "source": [
    "# Step 5: Install CUDA dependencies for acceleration (if applicable)\n",
    "# Uninstall existing versions of torch, torchaudio, and torchvision\n",
    "!pip uninstall -y torch torchaudio torchvision\n",
    "# Install specific versions of torch, torchaudio, and torchvision compatible with CUDA 11.8\n",
    "!pip install torch==2.5.1+cu118 torchaudio==2.5.1+cu118 torchvision==0.20.1+cu118 --index-url https://download.pytorch.org/whl/cu118\n",
    "# Install additional CUDA libraries\n",
    "!pip install nvidia-cublas-cu11 nvidia-cudnn-cu11"
   ]
  },
  {
   "cell_type": "code",
   "execution_count": null,
   "metadata": {
    "id": "run_application"
   },
   "outputs": [],
   "source": [
    "# 安装依赖库\n",
    "!pip install pyngrok flask\n",
    "\n",
    "from flask import Flask\n",
    "from pyngrok import ngrok\n",
    "\n",
    "# 设置 ngrok authtoken\n",
    "ngrok.set_auth_token(\"your-authtoken\")  # 替换为你自己的 authtoken\n",
    "\n",
    "# 创建 Flask 应用\n",
    "app = Flask(__name__)\n",
    "\n",
    "@app.route(\"/\")\n",
    "def home():\n",
    "    return \"Hello, Google Colab with ngrok!\"\n",
    "\n",
    "# 启动 ngrok 服务\n",
    "public_url = ngrok.connect(5000)  # 连接到 Flask 服务\n",
    "print(f\"Public URL: {public_url}\")\n",
    "# 运行sp_web.py\n",
    "!python3 sp_web.py\n",
    "# 启动 Flask 应用\n",
    "app.run(port=5000)\n",
    "\n",
    "\n",
    "\n"
   ]
  }
 ],
 "metadata": {
  "colab": {
   "name": "pyvideoNotebook.ipynb",
   "provenance": []
  },
  "kernelspec": {
   "display_name": "Python 3",
   "language": "python",
   "name": "python3"
  },
  "language_info": {
   "codemirror_mode": {
    "name": "ipython",
    "version": 3
   },
   "file_extension": ".py",
   "mimetype": "text/x-python",
   "name": "python",
   "nbconvert_exporter": "python",
   "pygments_lexer": "ipython3",
   "version": "3.10"
  }
 },
 "nbformat": 4,
 "nbformat_minor": 0
}
